{
 "cells": [
  {
   "cell_type": "markdown",
   "id": "57e17227",
   "metadata": {},
   "source": [
    "# Analyzing [Stack Overflow Annual Developer Surveys](https://insights.stackoverflow.com/survey)."
   ]
  },
  {
   "cell_type": "code",
   "execution_count": 20,
   "id": "40218c21",
   "metadata": {},
   "outputs": [],
   "source": [
    "import pandas as pd"
   ]
  },
  {
   "cell_type": "code",
   "execution_count": 21,
   "id": "1efbdf79",
   "metadata": {},
   "outputs": [],
   "source": [
    "pd.options.display.max_rows = 999\n",
    "pd.options.display.max_colwidth = 999"
   ]
  },
  {
   "cell_type": "code",
   "execution_count": 22,
   "id": "6dff3003",
   "metadata": {},
   "outputs": [],
   "source": [
    "surveys = {\n",
    "    \"2011\": {\n",
    "        \"data\": \"2011 Stack Overflow Survey Results/2011 Stack Overflow Survey Results.csv\",\n",
    "        \"readme\": None,\n",
    "        \"schema\": None\n",
    "    },\n",
    "    \"2012\": {\n",
    "        \"data\": \"2012 Stack Overflow Survey Results/2012 Stack Overflow Survey Results.csv\",\n",
    "        \"readme\": None,\n",
    "        \"schema\": None\n",
    "    },\n",
    "    \"2013\": {\n",
    "        \"data\": \"2013 Stack Overflow Survey Responses/2013 Stack Overflow Survey Responses.csv\",\n",
    "        \"readme\": None,\n",
    "        \"schema\": None\n",
    "    },\n",
    "    \"2014\": {\n",
    "        \"data\": \"2014 Stack Overflow Survey Responses/2014 Stack Overflow Survey Responses.csv\",\n",
    "        \"readme\": None,\n",
    "        \"schema\": None\n",
    "    },\n",
    "    \"2015\": {\n",
    "        \"data\": \"2015 Stack Overflow Developer Survey Responses/2015 Stack Overflow Developer Survey Responses.csv\",\n",
    "        \"readme\": None,\n",
    "        \"schema\": None\n",
    "    },\n",
    "    \"2016\": {\n",
    "        \"data\": \"2016 Stack Overflow Survey Results/2016 Stack Overflow Survey Results/2016 Stack Overflow Survey Responses.csv\",\n",
    "        \"readme\": \"2016 Stack Overflow Survey Results/2016 Stack Overflow Survey Results/READ_ME_-_The_Public_2016_Stack_Overflow_Developer_Survey_Results.txt\",\n",
    "        \"schema\": None\n",
    "    },\n",
    "    \"2017\": {\n",
    "        \"data\": \"developer_survey_2017/survey_results_public.csv\",\n",
    "        \"readme\": \"developer_survey_2017/README_2017.txt\",\n",
    "        \"schema\": \"developer_survey_2017/survey_results_schema.csv\"\n",
    "    },\n",
    "    \"2018\": {\n",
    "        \"data\": \"developer_survey_2018/survey_results_public.csv\",\n",
    "        \"readme\": \"developer_survey_2018/README_2018.txt\",\n",
    "        \"schema\": \"developer_survey_2018/survey_results_schema.csv\"\n",
    "    },\n",
    "    \"2019\": {\n",
    "        \"data\": \"developer_survey_2019/survey_results_public.csv\",\n",
    "        \"readme\": \"developer_survey_2019/README_2019.txt\",\n",
    "        \"schema\": \"developer_survey_2019/survey_results_schema.csv\"\n",
    "    },\n",
    "    \"2020\": {\n",
    "        \"data\": \"developer_survey_2020/survey_results_public.csv\",\n",
    "        \"readme\": \"developer_survey_2020/README_2020.txt\",\n",
    "        \"schema\": \"developer_survey_2020/survey_results_schema.csv\"\n",
    "    }\n",
    "}"
   ]
  },
  {
   "cell_type": "code",
   "execution_count": 23,
   "id": "dc160a7a",
   "metadata": {},
   "outputs": [],
   "source": [
    "mapping = {\n",
    "    \"What Country or Region do you live in?\": \"Country\",\n",
    "    \"How old are you?\": \"Age\",\n",
    "    \"age_midpoint\": \"Age\",\n",
    "    \"How many years of IT/Programming experience do you have?\": \"YearsCode\",\n",
    "    \"Which best describes the size of your company?\": \"OrgSize\",\n",
    "    \"How many developers are employed at your company?\": \"OrgSize\",\n",
    "    \"company_size_range\": \"OrgSize\",\n",
    "    \"Which of the following best describes your occupation?\": \"Employment\",\n",
    "    \"What type of project are you developing?\": \"DevType\",\n",
    "    \"Including bonus, what is your annual compensation in USD?\": \"ConvertedComp\"\n",
    "}"
   ]
  },
  {
   "cell_type": "code",
   "execution_count": 24,
   "id": "e8946ebb",
   "metadata": {},
   "outputs": [],
   "source": [
    "def search_schema(df, string):\n",
    "    \"\"\"Searches schema's DataFrame columns 'Question' for the word match.\n",
    "    Args:\n",
    "        df (pandas.DataFrame):\n",
    "        string (str):\n",
    "    Returns:\n",
    "        DataFrame containing labels and questions with the matched word.\n",
    "    \"\"\"\n",
    "    if 'Question' in df.columns:\n",
    "        return df[df['Question'].str.contains('\\W*'+string+'\\W*', case=False, regex=True)]\n",
    "    return df[df['QuestionText'].str.contains('\\W*'+string+'\\W*', case=False, regex=True)]\n",
    "\n",
    "def search_columns(df, string):\n",
    "    \"\"\"Searches DataFrame's columns for the word match.\n",
    "    Args:\n",
    "        df (pandas.DataFrame):\n",
    "        string (str):\n",
    "    Returns:\n",
    "        List containing all the columns with the word match.\n",
    "    \"\"\"\n",
    "    return df.columns[df.columns.str.contains('\\W*'+string+'\\W*', case=False, regex=True)].tolist()"
   ]
  },
  {
   "cell_type": "code",
   "execution_count": 25,
   "id": "6a98ae7b",
   "metadata": {},
   "outputs": [
    {
     "data": {
      "text/html": [
       "<div>\n",
       "<style scoped>\n",
       "    .dataframe tbody tr th:only-of-type {\n",
       "        vertical-align: middle;\n",
       "    }\n",
       "\n",
       "    .dataframe tbody tr th {\n",
       "        vertical-align: top;\n",
       "    }\n",
       "\n",
       "    .dataframe thead th {\n",
       "        text-align: right;\n",
       "    }\n",
       "</style>\n",
       "<table border=\"1\" class=\"dataframe\">\n",
       "  <thead>\n",
       "    <tr style=\"text-align: right;\">\n",
       "      <th></th>\n",
       "      <th>What Country or Region do you live in?</th>\n",
       "      <th>Which US State or Territory do you live in?</th>\n",
       "      <th>How old are you?</th>\n",
       "      <th>How many years of IT/Programming experience do you have?</th>\n",
       "      <th>How would you best describe the industry you work in?</th>\n",
       "      <th>Which best describes the size of your company?</th>\n",
       "      <th>Which of the following best describes your occupation?</th>\n",
       "      <th>How likely is it that a recommendation you make will be acted upon?</th>\n",
       "      <th>What is your involvement in purchasing? You can choose more than 1.</th>\n",
       "      <th>Unnamed: 9</th>\n",
       "      <th>...</th>\n",
       "      <th>Unnamed: 55</th>\n",
       "      <th>Unnamed: 56</th>\n",
       "      <th>Unnamed: 57</th>\n",
       "      <th>Unnamed: 58</th>\n",
       "      <th>Unnamed: 59</th>\n",
       "      <th>Unnamed: 60</th>\n",
       "      <th>Unnamed: 61</th>\n",
       "      <th>Unnamed: 62</th>\n",
       "      <th>In the last 12 months, how much money have you spent on personal technology-related purchases?</th>\n",
       "      <th>Which of our sites do you frequent most?</th>\n",
       "    </tr>\n",
       "  </thead>\n",
       "  <tbody>\n",
       "    <tr>\n",
       "      <th>0</th>\n",
       "      <td>Response</td>\n",
       "      <td>Response</td>\n",
       "      <td>Response</td>\n",
       "      <td>Response</td>\n",
       "      <td>Response</td>\n",
       "      <td>Response</td>\n",
       "      <td>Response</td>\n",
       "      <td>Response</td>\n",
       "      <td>Influencer</td>\n",
       "      <td>Recommender</td>\n",
       "      <td>...</td>\n",
       "      <td>AppleTV</td>\n",
       "      <td>iPad</td>\n",
       "      <td>Other netbook</td>\n",
       "      <td>PS3</td>\n",
       "      <td>Xbox</td>\n",
       "      <td>Wii</td>\n",
       "      <td>Other gaming system</td>\n",
       "      <td>other (please specify)</td>\n",
       "      <td>Response</td>\n",
       "      <td>Response</td>\n",
       "    </tr>\n",
       "    <tr>\n",
       "      <th>1</th>\n",
       "      <td>Africa</td>\n",
       "      <td>NaN</td>\n",
       "      <td>&lt; 20</td>\n",
       "      <td>&lt;2</td>\n",
       "      <td>Consulting</td>\n",
       "      <td>Start Up (1-25)</td>\n",
       "      <td>Web Application Developer</td>\n",
       "      <td>Not in a million years</td>\n",
       "      <td>NaN</td>\n",
       "      <td>NaN</td>\n",
       "      <td>...</td>\n",
       "      <td>NaN</td>\n",
       "      <td>NaN</td>\n",
       "      <td>NaN</td>\n",
       "      <td>NaN</td>\n",
       "      <td>NaN</td>\n",
       "      <td>NaN</td>\n",
       "      <td>NaN</td>\n",
       "      <td>NaN</td>\n",
       "      <td>&lt;$100</td>\n",
       "      <td>NaN</td>\n",
       "    </tr>\n",
       "    <tr>\n",
       "      <th>2</th>\n",
       "      <td>Other Europe</td>\n",
       "      <td>NaN</td>\n",
       "      <td>25-29</td>\n",
       "      <td>41310</td>\n",
       "      <td>Software Products</td>\n",
       "      <td>Mature Small Business (25-100)</td>\n",
       "      <td>Server Programmer</td>\n",
       "      <td>It's been known to happen</td>\n",
       "      <td>NaN</td>\n",
       "      <td>NaN</td>\n",
       "      <td>...</td>\n",
       "      <td>NaN</td>\n",
       "      <td>NaN</td>\n",
       "      <td>Other netbook</td>\n",
       "      <td>NaN</td>\n",
       "      <td>NaN</td>\n",
       "      <td>NaN</td>\n",
       "      <td>NaN</td>\n",
       "      <td>NaN</td>\n",
       "      <td>$251-$500</td>\n",
       "      <td>Stack Overflow</td>\n",
       "    </tr>\n",
       "    <tr>\n",
       "      <th>3</th>\n",
       "      <td>India</td>\n",
       "      <td>NaN</td>\n",
       "      <td>25-29</td>\n",
       "      <td>41435</td>\n",
       "      <td>Software Products</td>\n",
       "      <td>Mid Sized (100-999)</td>\n",
       "      <td>Server Programmer</td>\n",
       "      <td>Unless it's stoopid it gets done</td>\n",
       "      <td>NaN</td>\n",
       "      <td>NaN</td>\n",
       "      <td>...</td>\n",
       "      <td>NaN</td>\n",
       "      <td>NaN</td>\n",
       "      <td>NaN</td>\n",
       "      <td>NaN</td>\n",
       "      <td>NaN</td>\n",
       "      <td>NaN</td>\n",
       "      <td>NaN</td>\n",
       "      <td>NaN</td>\n",
       "      <td>NaN</td>\n",
       "      <td>NaN</td>\n",
       "    </tr>\n",
       "    <tr>\n",
       "      <th>4</th>\n",
       "      <td>Germany</td>\n",
       "      <td>NaN</td>\n",
       "      <td>&lt; 20</td>\n",
       "      <td>41310</td>\n",
       "      <td>Foundation / Non-Profit</td>\n",
       "      <td>Student</td>\n",
       "      <td>Student</td>\n",
       "      <td>It's been known to happen</td>\n",
       "      <td>NaN</td>\n",
       "      <td>NaN</td>\n",
       "      <td>...</td>\n",
       "      <td>NaN</td>\n",
       "      <td>NaN</td>\n",
       "      <td>NaN</td>\n",
       "      <td>NaN</td>\n",
       "      <td>NaN</td>\n",
       "      <td>Wii</td>\n",
       "      <td>Other gaming system</td>\n",
       "      <td>NaN</td>\n",
       "      <td>$501-$1,000</td>\n",
       "      <td>Stack Overflow</td>\n",
       "    </tr>\n",
       "  </tbody>\n",
       "</table>\n",
       "<p>5 rows × 65 columns</p>\n",
       "</div>"
      ],
      "text/plain": [
       "  What Country or Region do you live in?  \\\n",
       "0                               Response   \n",
       "1                                 Africa   \n",
       "2                           Other Europe   \n",
       "3                                  India   \n",
       "4                                Germany   \n",
       "\n",
       "  Which US State or Territory do you live in? How old are you?  \\\n",
       "0                                    Response         Response   \n",
       "1                                         NaN             < 20   \n",
       "2                                         NaN            25-29   \n",
       "3                                         NaN            25-29   \n",
       "4                                         NaN             < 20   \n",
       "\n",
       "  How many years of IT/Programming experience do you have?  \\\n",
       "0                                                 Response   \n",
       "1                                                       <2   \n",
       "2                                                    41310   \n",
       "3                                                    41435   \n",
       "4                                                    41310   \n",
       "\n",
       "  How would you best describe the industry you work in?  \\\n",
       "0                                              Response   \n",
       "1                                            Consulting   \n",
       "2                                     Software Products   \n",
       "3                                     Software Products   \n",
       "4                               Foundation / Non-Profit   \n",
       "\n",
       "  Which best describes the size of your company?  \\\n",
       "0                                       Response   \n",
       "1                                Start Up (1-25)   \n",
       "2                 Mature Small Business (25-100)   \n",
       "3                            Mid Sized (100-999)   \n",
       "4                                        Student   \n",
       "\n",
       "  Which of the following best describes your occupation?  \\\n",
       "0                                               Response   \n",
       "1                              Web Application Developer   \n",
       "2                                      Server Programmer   \n",
       "3                                      Server Programmer   \n",
       "4                                                Student   \n",
       "\n",
       "  How likely is it that a recommendation you make will be acted upon?  \\\n",
       "0                                                            Response   \n",
       "1                                              Not in a million years   \n",
       "2                                           It's been known to happen   \n",
       "3                                    Unless it's stoopid it gets done   \n",
       "4                                           It's been known to happen   \n",
       "\n",
       "  What is your involvement in purchasing? You can choose more than 1.  \\\n",
       "0                                                          Influencer   \n",
       "1                                                                 NaN   \n",
       "2                                                                 NaN   \n",
       "3                                                                 NaN   \n",
       "4                                                                 NaN   \n",
       "\n",
       "    Unnamed: 9  ... Unnamed: 55 Unnamed: 56    Unnamed: 57 Unnamed: 58  \\\n",
       "0  Recommender  ...     AppleTV        iPad  Other netbook         PS3   \n",
       "1          NaN  ...         NaN         NaN            NaN         NaN   \n",
       "2          NaN  ...         NaN         NaN  Other netbook         NaN   \n",
       "3          NaN  ...         NaN         NaN            NaN         NaN   \n",
       "4          NaN  ...         NaN         NaN            NaN         NaN   \n",
       "\n",
       "  Unnamed: 59 Unnamed: 60          Unnamed: 61             Unnamed: 62  \\\n",
       "0        Xbox         Wii  Other gaming system  other (please specify)   \n",
       "1         NaN         NaN                  NaN                     NaN   \n",
       "2         NaN         NaN                  NaN                     NaN   \n",
       "3         NaN         NaN                  NaN                     NaN   \n",
       "4         NaN         Wii  Other gaming system                     NaN   \n",
       "\n",
       "  In the last 12 months, how much money have you spent on personal technology-related purchases?   \\\n",
       "0                                                                                        Response   \n",
       "1                                                                                           <$100   \n",
       "2                                                                                       $251-$500   \n",
       "3                                                                                             NaN   \n",
       "4                                                                                     $501-$1,000   \n",
       "\n",
       "  Which of our sites do you frequent most?  \n",
       "0                                 Response  \n",
       "1                                      NaN  \n",
       "2                           Stack Overflow  \n",
       "3                                      NaN  \n",
       "4                           Stack Overflow  \n",
       "\n",
       "[5 rows x 65 columns]"
      ]
     },
     "execution_count": 25,
     "metadata": {},
     "output_type": "execute_result"
    }
   ],
   "source": [
    "survey_2011 = pd.read_csv(surveys['2011']['data'])\n",
    "survey_2011.head()"
   ]
  },
  {
   "cell_type": "code",
   "execution_count": 26,
   "id": "74381bd3",
   "metadata": {
    "scrolled": true
   },
   "outputs": [
    {
     "data": {
      "text/plain": [
       "['What Country or Region do you live in?',\n",
       " 'Which US State or Territory do you live in?',\n",
       " 'How old are you?',\n",
       " 'How many years of IT/Programming experience do you have?',\n",
       " 'How would you best describe the industry you work in?',\n",
       " 'Which best describes the size of your company?',\n",
       " 'Which of the following best describes your occupation?',\n",
       " 'How likely is it that a recommendation you make will be acted upon?',\n",
       " 'What is your involvement in purchasing? You can choose more than 1.',\n",
       " 'Unnamed: 9',\n",
       " 'Unnamed: 10',\n",
       " 'Unnamed: 11',\n",
       " 'Unnamed: 12',\n",
       " 'Unnamed: 13',\n",
       " 'Unnamed: 14',\n",
       " 'What types of purchases are you involved in?',\n",
       " 'Unnamed: 16',\n",
       " 'Unnamed: 17',\n",
       " 'Unnamed: 18',\n",
       " 'Unnamed: 19',\n",
       " 'Unnamed: 20',\n",
       " 'What is your budget for outside expenditures (hardware, software, consulting, etc) for 2011?',\n",
       " 'Unnamed: 22',\n",
       " 'Unnamed: 23',\n",
       " 'Unnamed: 24',\n",
       " 'Unnamed: 25',\n",
       " 'Unnamed: 26',\n",
       " 'Unnamed: 27',\n",
       " 'Unnamed: 28',\n",
       " 'What type of project are you developing?',\n",
       " 'Which languages are you proficient in?',\n",
       " 'Unnamed: 31',\n",
       " 'Unnamed: 32',\n",
       " 'Unnamed: 33',\n",
       " 'Unnamed: 34',\n",
       " 'Unnamed: 35',\n",
       " 'Unnamed: 36',\n",
       " 'Unnamed: 37',\n",
       " 'Unnamed: 38',\n",
       " 'Unnamed: 39',\n",
       " 'Unnamed: 40',\n",
       " 'Unnamed: 41',\n",
       " 'Unnamed: 42',\n",
       " 'What operating system do you use the most?',\n",
       " 'Please rate your job/career satisfaction',\n",
       " 'Including bonus, what is your annual compensation in USD?',\n",
       " 'Which technology products do you own? (You can choose more than one)',\n",
       " 'Unnamed: 47',\n",
       " 'Unnamed: 48',\n",
       " 'Unnamed: 49',\n",
       " 'Unnamed: 50',\n",
       " 'Unnamed: 51',\n",
       " 'Unnamed: 52',\n",
       " 'Unnamed: 53',\n",
       " 'Unnamed: 54',\n",
       " 'Unnamed: 55',\n",
       " 'Unnamed: 56',\n",
       " 'Unnamed: 57',\n",
       " 'Unnamed: 58',\n",
       " 'Unnamed: 59',\n",
       " 'Unnamed: 60',\n",
       " 'Unnamed: 61',\n",
       " 'Unnamed: 62',\n",
       " 'In the last 12 months, how much money have you spent on personal technology-related purchases? ',\n",
       " 'Which of our sites do you frequent most?']"
      ]
     },
     "execution_count": 26,
     "metadata": {},
     "output_type": "execute_result"
    }
   ],
   "source": [
    "survey_2011.columns.tolist()"
   ]
  },
  {
   "cell_type": "code",
   "execution_count": 27,
   "id": "ba7e6dbc",
   "metadata": {},
   "outputs": [
    {
     "data": {
      "text/plain": [
       "United States of America    1037\n",
       "Other Europe                 451\n",
       "United Kingdom               314\n",
       "Canada                       156\n",
       "Australia                    112\n",
       "Germany                      106\n",
       "India                         95\n",
       "South America                 91\n",
       "Other Asia                    81\n",
       "Middle East                   73\n",
       "France                        60\n",
       "Netherlands                   55\n",
       "Africa                        43\n",
       "Russia                        41\n",
       "Italy                         35\n",
       "Australasia                   29\n",
       "Mexico                        20\n",
       "North America (Other)          8\n",
       "Central America                6\n",
       "Response                       1\n",
       "Name: What Country or Region do you live in?, dtype: int64"
      ]
     },
     "execution_count": 27,
     "metadata": {},
     "output_type": "execute_result"
    }
   ],
   "source": [
    "survey_2011['What Country or Region do you live in?'].value_counts()"
   ]
  },
  {
   "cell_type": "code",
   "execution_count": 28,
   "id": "3fad2989",
   "metadata": {},
   "outputs": [
    {
     "data": {
      "text/plain": [
       "11          1044\n",
       "41435        822\n",
       "41310        717\n",
       "<2           146\n",
       "Response       1\n",
       "Name: How many years of IT/Programming experience do you have?, dtype: int64"
      ]
     },
     "execution_count": 28,
     "metadata": {},
     "output_type": "execute_result"
    }
   ],
   "source": [
    "survey_2011['How many years of IT/Programming experience do you have?'].value_counts()"
   ]
  },
  {
   "cell_type": "code",
   "execution_count": 29,
   "id": "b2170b9a",
   "metadata": {
    "scrolled": true
   },
   "outputs": [
    {
     "data": {
      "text/plain": [
       "Software Products          814\n",
       "Web Services               495\n",
       "Other                      396\n",
       "Consulting                 322\n",
       "Finance / Banking          189\n",
       "Education                  157\n",
       "Healthcare                  81\n",
       "Manufacturing               77\n",
       "Retail                      56\n",
       "Foundation / Non-Profit     50\n",
       "Gaming                      49\n",
       "Advertising                 43\n",
       "Response                     1\n",
       "Name: How would you best describe the industry you work in?, dtype: int64"
      ]
     },
     "execution_count": 29,
     "metadata": {},
     "output_type": "execute_result"
    }
   ],
   "source": [
    "survey_2011['How would you best describe the industry you work in?'].value_counts()"
   ]
  },
  {
   "cell_type": "code",
   "execution_count": 30,
   "id": "45a532a5",
   "metadata": {},
   "outputs": [
    {
     "data": {
      "text/plain": [
       "25-29       831\n",
       "30-34       612\n",
       "20-24       507\n",
       "35-39       343\n",
       "40-50       277\n",
       "< 20        116\n",
       "51-60        37\n",
       ">60           6\n",
       "Response      1\n",
       "Name: How old are you?, dtype: int64"
      ]
     },
     "execution_count": 30,
     "metadata": {},
     "output_type": "execute_result"
    }
   ],
   "source": [
    "survey_2011['How old are you?'].value_counts()"
   ]
  },
  {
   "cell_type": "code",
   "execution_count": 31,
   "id": "b32ea5ec",
   "metadata": {},
   "outputs": [
    {
     "data": {
      "text/plain": [
       "Start Up (1-25)                          745\n",
       "Mature Small Business (25-100)           569\n",
       "Fortune 1000 (1,000+)                    543\n",
       "Mid Sized (100-999)                      447\n",
       "Student                                  203\n",
       "Other (not working, consultant, etc.)    139\n",
       "Response                                   1\n",
       "Name: Which best describes the size of your company?, dtype: int64"
      ]
     },
     "execution_count": 31,
     "metadata": {},
     "output_type": "execute_result"
    }
   ],
   "source": [
    "survey_2011['Which best describes the size of your company?'].value_counts()"
   ]
  },
  {
   "cell_type": "code",
   "execution_count": 32,
   "id": "e70906f6",
   "metadata": {},
   "outputs": [
    {
     "data": {
      "text/plain": [
       "Web Application Developer                1066\n",
       "Desktop Application Developer             419\n",
       "Server Programmer                         213\n",
       "Student                                   198\n",
       "Manager of Developers or Team Leader      195\n",
       "Other                                     170\n",
       "Embedded Application Developer            115\n",
       "IT Staff / System Administrator            85\n",
       "Executive (VP of Eng, CTO, CIO, etc.)      70\n",
       "Systems Analyst                            54\n",
       "IT Manager                                 28\n",
       "Database Administrator                     23\n",
       "Kernel / Driver Developer                  10\n",
       "Response                                    1\n",
       "Name: Which of the following best describes your occupation?, dtype: int64"
      ]
     },
     "execution_count": 32,
     "metadata": {},
     "output_type": "execute_result"
    }
   ],
   "source": [
    "survey_2011['Which of the following best describes your occupation?'].value_counts()"
   ]
  },
  {
   "cell_type": "code",
   "execution_count": 33,
   "id": "5a474cb0",
   "metadata": {},
   "outputs": [
    {
     "data": {
      "text/plain": [
       "I enjoy going to work      1419\n",
       "It pays the bills           585\n",
       "So happy it hurts           327\n",
       "I'm not happy in my job     159\n",
       "FML                          63\n",
       "Response                      1\n",
       "Name: Please rate your job/career satisfaction, dtype: int64"
      ]
     },
     "execution_count": 33,
     "metadata": {},
     "output_type": "execute_result"
    }
   ],
   "source": [
    "survey_2011['Please rate your job/career satisfaction'].value_counts()"
   ]
  },
  {
   "cell_type": "code",
   "execution_count": 34,
   "id": "0470aaf4",
   "metadata": {},
   "outputs": [
    {
     "data": {
      "text/plain": [
       "$40,000 - $60,000       415\n",
       "$60,000 - $80,000       413\n",
       "$20,000 - $40,000       318\n",
       "$80,000 - $100,000      292\n",
       "<$20,000                283\n",
       "$100,000 - $120,000     222\n",
       "Student / Unemployed    215\n",
       ">$140,000               110\n",
       "$120,000 - $140,000      97\n",
       "Response                  1\n",
       "Name: Including bonus, what is your annual compensation in USD?, dtype: int64"
      ]
     },
     "execution_count": 34,
     "metadata": {},
     "output_type": "execute_result"
    }
   ],
   "source": [
    "survey_2011['Including bonus, what is your annual compensation in USD?'].value_counts()"
   ]
  },
  {
   "cell_type": "code",
   "execution_count": 35,
   "id": "b1dab6ce",
   "metadata": {},
   "outputs": [
    {
     "data": {
      "text/plain": [
       "Web Platform    864\n",
       "Enterprise      824\n",
       "Other           515\n",
       "SaaS            201\n",
       "Mobile          194\n",
       "Response          1\n",
       "Name: What type of project are you developing?, dtype: int64"
      ]
     },
     "execution_count": 35,
     "metadata": {},
     "output_type": "execute_result"
    }
   ],
   "source": [
    "survey_2011['What type of project are you developing?'].value_counts()"
   ]
  },
  {
   "cell_type": "code",
   "execution_count": 36,
   "id": "958b34d3",
   "metadata": {},
   "outputs": [],
   "source": [
    "survey_2011_map = {\n",
    "    \"What Country or Region do you live in?\",\n",
    "    \"How old are you?\",\n",
    "    \"How many years of IT/Programming experience do you have?\",\n",
    "#     \"How would you best describe the industry you work in?\",\n",
    "    \"Which best describes the size of your company?\",\n",
    "    \"Which of the following best describes your occupation?\",\n",
    "    \"What type of project are you developing?\",\n",
    "    \"Including bonus, what is your annual compensation in USD?\"\n",
    "}"
   ]
  },
  {
   "cell_type": "code",
   "execution_count": 37,
   "id": "415d4cf5",
   "metadata": {},
   "outputs": [
    {
     "ename": "NameError",
     "evalue": "name 'survey_2011_features' is not defined",
     "output_type": "error",
     "traceback": [
      "\u001b[1;31m---------------------------------------------------------------------------\u001b[0m",
      "\u001b[1;31mNameError\u001b[0m                                 Traceback (most recent call last)",
      "\u001b[1;32m<ipython-input-37-de0da5206604>\u001b[0m in \u001b[0;36m<module>\u001b[1;34m\u001b[0m\n\u001b[1;32m----> 1\u001b[1;33m \u001b[0msurvey_2011\u001b[0m\u001b[1;33m[\u001b[0m\u001b[0msurvey_2011_features\u001b[0m\u001b[1;33m]\u001b[0m\u001b[1;33m.\u001b[0m\u001b[0minfo\u001b[0m\u001b[1;33m(\u001b[0m\u001b[1;33m)\u001b[0m\u001b[1;33m\u001b[0m\u001b[1;33m\u001b[0m\u001b[0m\n\u001b[0m",
      "\u001b[1;31mNameError\u001b[0m: name 'survey_2011_features' is not defined"
     ]
    }
   ],
   "source": [
    "survey_2011[survey_2011_features].info()"
   ]
  },
  {
   "cell_type": "code",
   "execution_count": null,
   "id": "c521fba1",
   "metadata": {
    "scrolled": true
   },
   "outputs": [],
   "source": [
    "survey_2012 = pd.read_csv(surveys['2012']['data'])\n",
    "survey_2012[[col for col in survey_2012.columns if 'Unnamed' not in col]].info()"
   ]
  },
  {
   "cell_type": "code",
   "execution_count": null,
   "id": "871d752e",
   "metadata": {},
   "outputs": [],
   "source": [
    "for col in survey_2011_features:\n",
    "    if col not in survey_2012.columns:\n",
    "        print(col)"
   ]
  },
  {
   "cell_type": "code",
   "execution_count": null,
   "id": "810c6117",
   "metadata": {},
   "outputs": [],
   "source": [
    "survey_2012_features = survey_2011_features.copy()\n",
    "# survey_2012_features.remove('How would you best describe the industry you work in?')\n",
    "# survey_2012_features.append('How would you best describe the industry you currently work in?')"
   ]
  },
  {
   "cell_type": "code",
   "execution_count": null,
   "id": "d7e87d19",
   "metadata": {},
   "outputs": [],
   "source": [
    "survey_2012[survey_2012_features].info()"
   ]
  },
  {
   "cell_type": "code",
   "execution_count": null,
   "id": "d7ed2c4a",
   "metadata": {
    "scrolled": true
   },
   "outputs": [],
   "source": [
    "for k, v in surveys.items():\n",
    "    current_survey = pd.read_csv(v['data'], low_memory=False)\n",
    "    exploring_columns = [col for col in current_survey.columns if 'Unnamed' not in col]\n",
    "    print(f\"Survey: {k}\", current_survey[exploring_columns].info(), \"=\"*50, sep=\"\\n\")"
   ]
  },
  {
   "cell_type": "code",
   "execution_count": null,
   "id": "feb8a827",
   "metadata": {},
   "outputs": [],
   "source": [
    "survey_2017 = pd.read_csv(surveys['2017']['data'])\n",
    "survey_2017.head()"
   ]
  },
  {
   "cell_type": "code",
   "execution_count": null,
   "id": "1e039502",
   "metadata": {
    "scrolled": true
   },
   "outputs": [],
   "source": [
    "survey_2017_schema = pd.read_csv(surveys['2017']['schema'])\n",
    "survey_2017_schema"
   ]
  },
  {
   "cell_type": "code",
   "execution_count": null,
   "id": "b9759a61",
   "metadata": {},
   "outputs": [],
   "source": [
    "search_schema(pd.read_csv(surveys['2017']['schema']), 'age')"
   ]
  },
  {
   "cell_type": "code",
   "execution_count": null,
   "id": "cade0fd1",
   "metadata": {},
   "outputs": [],
   "source": [
    "search_schema(pd.read_csv(surveys['2020']['schema']), 'salary')"
   ]
  },
  {
   "cell_type": "code",
   "execution_count": null,
   "id": "540c8bdf",
   "metadata": {},
   "outputs": [],
   "source": [
    "survey_2020_features = {\n",
    "    \"Country\": \"Country\",\n",
    "    \"Age\": \"Age\",\n",
    "    \"YearsCode\": \"YearsCode\",\n",
    "    \"OrgSize\": \"OrgSize\",\n",
    "    \"Employment\": \"Employment\",\n",
    "    \"DevType\": \"DevType\",\n",
    "    \"ConvertedComp\": \"ConvertedComp\"\n",
    "}"
   ]
  },
  {
   "cell_type": "code",
   "execution_count": null,
   "id": "f06a95a0",
   "metadata": {},
   "outputs": [],
   "source": [
    "survey_2019 = pd.read_csv(surveys['2019']['data'])\n",
    "survey_2019[survey_2020_features].info()"
   ]
  },
  {
   "cell_type": "code",
   "execution_count": null,
   "id": "451ad094",
   "metadata": {},
   "outputs": [],
   "source": [
    "survey_2011_map = {\n",
    "    \"Country\": \"What Country or Region do you live in?\",\n",
    "    \"Age\": \"How old are you?\",\n",
    "    \"YearsCode\": \"How many years of IT/Programming experience do you have?\",\n",
    "    \"OrgSize\": \"Which best describes the size of your company?\",\n",
    "    \"Employment\": \"Which of the following best describes your occupation?\",\n",
    "    \"DevType\": \"What type of project are you developing?\",\n",
    "    \"ConvertedComp\": \"Including bonus, what is your annual compensation in USD?\"\n",
    "}"
   ]
  },
  {
   "cell_type": "code",
   "execution_count": null,
   "id": "cd598cf8",
   "metadata": {},
   "outputs": [],
   "source": [
    "survey_2011_features"
   ]
  },
  {
   "cell_type": "code",
   "execution_count": null,
   "id": "65750c0b",
   "metadata": {},
   "outputs": [],
   "source": [
    "survey_2020 = pd.read_csv(surveys['2020']['data'])\n",
    "survey_2020['Employment'].value_counts()"
   ]
  },
  {
   "cell_type": "code",
   "execution_count": null,
   "id": "bfe3415c",
   "metadata": {},
   "outputs": [],
   "source": [
    "survey_2020['MainBranch'].value_counts()"
   ]
  },
  {
   "cell_type": "code",
   "execution_count": null,
   "id": "7cacda47",
   "metadata": {},
   "outputs": [],
   "source": [
    "survey_2020['CompTotal'].value_counts(normalize=True, bins=10)"
   ]
  },
  {
   "cell_type": "code",
   "execution_count": null,
   "id": "67cf83b3",
   "metadata": {},
   "outputs": [],
   "source": [
    "for k, v in surveys.items():\n",
    "    survey = pd.read_csv(v['data'], low_memory=True)\n",
    "    print(k, \"=\"*50, \"\\n\")\n",
    "    survey.rename(mapping, inplace=True)"
   ]
  },
  {
   "cell_type": "code",
   "execution_count": null,
   "id": "9e19310f",
   "metadata": {
    "scrolled": false
   },
   "outputs": [],
   "source": [
    "dfs = []\n",
    "for k, v in surveys.items():\n",
    "    if int(k) <= 2016:\n",
    "        continue\n",
    "    survey = pd.read_csv(v['data'], low_memory=True)\n",
    "    survey.rename(mapping, axis=1,inplace=True)\n",
    "    print(k)\n",
    "    dfs.append(survey[set(mapping.values())])\n",
    "df = pd.concat(dfs, keys=surveys.keys())"
   ]
  },
  {
   "cell_type": "code",
   "execution_count": null,
   "id": "ab468f26",
   "metadata": {
    "scrolled": true
   },
   "outputs": [],
   "source": [
    "list(set(mapping.values()))"
   ]
  },
  {
   "cell_type": "code",
   "execution_count": null,
   "id": "321220aa",
   "metadata": {},
   "outputs": [],
   "source": [
    "survey_2014 = pd.read_csv(surveys['2014']['data'])\n",
    "survey_2015 = pd.read_csv(surveys['2015']['data'], skiprows=[0])\n",
    "survey_2016 = pd.read_csv(surveys['2016']['data'])\n",
    "survey_2017 = pd.read_csv(surveys['2017']['data'], low_memory=True)\n",
    "survey_2018 = pd.read_csv(surveys['2018']['data'], low_memory=True)"
   ]
  },
  {
   "cell_type": "code",
   "execution_count": null,
   "id": "ce560608",
   "metadata": {
    "scrolled": true
   },
   "outputs": [],
   "source": [
    "search_columns(survey_2017, 'old')"
   ]
  },
  {
   "cell_type": "code",
   "execution_count": null,
   "id": "61616fa6",
   "metadata": {
    "scrolled": true
   },
   "outputs": [],
   "source": [
    "search_schema(pd.read_csv(surveys['2017']['schema'], low_memory=True), ' ')"
   ]
  },
  {
   "cell_type": "markdown",
   "id": "f8bcea82",
   "metadata": {},
   "source": [
    "Looks like only a few amount of questions could be analyzed in the context of time.\n",
    "I abandon the main idea and now will search for fun questions in the context of salary, gender, age, country, time."
   ]
  },
  {
   "cell_type": "code",
   "execution_count": null,
   "id": "13424368",
   "metadata": {},
   "outputs": [],
   "source": [
    "survey_2017 = pd.read_csv(surveys['2017']['data'], low_memory=True)"
   ]
  },
  {
   "cell_type": "code",
   "execution_count": null,
   "id": "afaab6e0",
   "metadata": {},
   "outputs": [],
   "source": [
    "import matplotlib.pyplot as plt\n",
    "import numpy as np"
   ]
  },
  {
   "cell_type": "code",
   "execution_count": null,
   "id": "10f7afbb",
   "metadata": {},
   "outputs": [],
   "source": [
    "salaries_clean = survey_2017['Salary'].dropna(axis=0)\n",
    "salaries_clean = salaries_clean[salaries_clean != 0]\n",
    "intervals = [i for i in range(0, 120001, 20000)] + [150000, 200000]\n",
    "salaries = pd.cut(salaries_clean, intervals)"
   ]
  },
  {
   "cell_type": "code",
   "execution_count": null,
   "id": "77594daf",
   "metadata": {
    "scrolled": false
   },
   "outputs": [],
   "source": [
    "salaries = pd.DataFrame(salaries)\n",
    "salaries.value_counts()"
   ]
  },
  {
   "cell_type": "code",
   "execution_count": null,
   "id": "92a01dd5",
   "metadata": {
    "scrolled": true
   },
   "outputs": [],
   "source": [
    "salaries.value_counts()"
   ]
  },
  {
   "cell_type": "code",
   "execution_count": null,
   "id": "311913f7",
   "metadata": {},
   "outputs": [],
   "source": [
    "salaries.value_counts(normalize=True).sort_index(ascending=True).plot(kind='barh', title='Salary distribution', xlabel='Salary range, USD', ylabel='%');"
   ]
  },
  {
   "cell_type": "code",
   "execution_count": null,
   "id": "908ef55c",
   "metadata": {},
   "outputs": [],
   "source": [
    "plt.hist(survey_2017['Salary']);"
   ]
  },
  {
   "cell_type": "code",
   "execution_count": null,
   "id": "223467a6",
   "metadata": {},
   "outputs": [],
   "source": [
    "merged = pd.merge(survey_2017, salaries, how='inner', left_index=True, right_index=True)"
   ]
  },
  {
   "cell_type": "code",
   "execution_count": null,
   "id": "99293bda",
   "metadata": {},
   "outputs": [],
   "source": [
    "merged['Overpaid'].value_counts()"
   ]
  },
  {
   "cell_type": "code",
   "execution_count": null,
   "id": "0124fb15",
   "metadata": {},
   "outputs": [],
   "source": [
    "intervals_adjusted = intervals[1:]\n",
    "merged['Salary_x'] = merged['Salary_x'].apply(lambda x: intervals_adjusted[np.argmin(abs(np.array(intervals_adjusted) - x))])"
   ]
  },
  {
   "cell_type": "code",
   "execution_count": null,
   "id": "a49e7208",
   "metadata": {
    "scrolled": false
   },
   "outputs": [],
   "source": [
    "merged['Overpaid'].value_counts(normalize=True).plot(kind='barh');"
   ]
  },
  {
   "cell_type": "code",
   "execution_count": null,
   "id": "0b6d487a",
   "metadata": {
    "scrolled": true
   },
   "outputs": [],
   "source": [
    "sorted(merged['Salary_x'].unique())"
   ]
  },
  {
   "cell_type": "code",
   "execution_count": null,
   "id": "a14564a3",
   "metadata": {},
   "outputs": [],
   "source": [
    "merged['Overpaid'].fillna('Unknown', inplace=True)"
   ]
  },
  {
   "cell_type": "code",
   "execution_count": 18,
   "id": "18f4a9a4",
   "metadata": {},
   "outputs": [],
   "source": [
    "salary_overpaid_2017 = merged[['Salary_x', 'Overpaid', 'Respondent']].groupby(['Salary_x', 'Overpaid']).count()\n",
    "salary_overpaid_2017.fillna('NA', inplace=True)\n"
   ]
  },
  {
   "cell_type": "code",
   "execution_count": null,
   "id": "869d971d",
   "metadata": {},
   "outputs": [],
   "source": [
    "salary_overpaid_2017.loc[idx[:, overpaid], :]"
   ]
  },
  {
   "cell_type": "code",
   "execution_count": null,
   "id": "4987dd5e",
   "metadata": {},
   "outputs": [],
   "source": [
    "np.std(intervals_adjusted)"
   ]
  },
  {
   "cell_type": "code",
   "execution_count": null,
   "id": "022ac87b",
   "metadata": {},
   "outputs": [],
   "source": [
    "idx = pd.IndexSlice\n",
    "salary_overpaid_2017.loc[idx[:,'Somewhat underpaid'], :]"
   ]
  },
  {
   "cell_type": "code",
   "execution_count": null,
   "id": "5792cf15",
   "metadata": {},
   "outputs": [],
   "source": [
    "len(intervals_adjusted) * [0] + salary_overpaid_2017.loc[(slice(None), slice('Greatly underpaid')), :].values.reshape(1,-1)"
   ]
  },
  {
   "cell_type": "code",
   "execution_count": null,
   "id": "34e0a90b",
   "metadata": {},
   "outputs": [],
   "source": [
    "merged[['Salary_x', 'Overpaid', 'Respondent']].groupby('Overpaid').count()"
   ]
  },
  {
   "cell_type": "code",
   "execution_count": null,
   "id": "cc8b5917",
   "metadata": {},
   "outputs": [],
   "source": [
    "intervals_adjusted"
   ]
  },
  {
   "cell_type": "code",
   "execution_count": null,
   "id": "7960f445",
   "metadata": {},
   "outputs": [],
   "source": [
    "merged.head()"
   ]
  },
  {
   "cell_type": "code",
   "execution_count": 38,
   "id": "02080634",
   "metadata": {},
   "outputs": [
    {
     "data": {
      "text/plain": [
       "(51392, 154)"
      ]
     },
     "execution_count": 38,
     "metadata": {},
     "output_type": "execute_result"
    }
   ],
   "source": [
    "survey_2017 = pd.read_csv(surveys['2017']['data'], low_memory=True)\n",
    "survey_2017.shape"
   ]
  },
  {
   "cell_type": "code",
   "execution_count": 39,
   "id": "aaab620e",
   "metadata": {},
   "outputs": [],
   "source": [
    "intervals_adjusted = [i for i in range(10000, 100001, 10000)] + [i for i in range(120000, 200001, 20000)]\n",
    "\n",
    "def process_salary(df):\n",
    "    dataframe = df.copy()\n",
    "    dataframe = dataframe.dropna(subset=['Salary'], axis=0)\n",
    "    dataframe['Salary'] = dataframe['Salary'].apply(lambda x: intervals_adjusted[np.argmin(abs(np.array(intervals_adjusted) - x))])\n",
    "    return dataframe\n",
    "\n",
    "def process_overpaid(df):\n",
    "    dataframe = df.copy()\n",
    "    dataframe['Overpaid'] = dataframe['Overpaid'].fillna('Unknown')\n",
    "    return dataframe\n",
    "\n",
    "def make_dummies(df, col, prefix):\n",
    "    dataframe = pd.get_dummies(df, columns=[col], prefix=prefix)\n",
    "    return dataframe\n",
    "\n",
    "survey_2017_clean = survey_2017.copy()\n",
    "survey_2017_clean = process_salary(survey_2017_clean)\n",
    "survey_2017_clean = process_overpaid(survey_2017_clean)\n",
    "overpaid_list = ['Overpaid_'+i for i in survey_2017_clean['Overpaid'].unique()]\n",
    "survey_2017_clean = make_dummies(survey_2017_clean, 'Overpaid', 'Overpaid')"
   ]
  },
  {
   "cell_type": "code",
   "execution_count": 40,
   "id": "031c86a8",
   "metadata": {
    "scrolled": true
   },
   "outputs": [
    {
     "data": {
      "text/plain": [
       "{'Overpaid_Greatly overpaid',\n",
       " 'Overpaid_Greatly underpaid',\n",
       " 'Overpaid_Neither underpaid nor overpaid',\n",
       " 'Overpaid_Somewhat overpaid',\n",
       " 'Overpaid_Somewhat underpaid',\n",
       " 'Overpaid_Unknown'}"
      ]
     },
     "execution_count": 40,
     "metadata": {},
     "output_type": "execute_result"
    }
   ],
   "source": [
    "set(survey_2017_clean.columns).difference(set(survey_2017))"
   ]
  },
  {
   "cell_type": "code",
   "execution_count": 41,
   "id": "9e3fc385",
   "metadata": {
    "scrolled": true
   },
   "outputs": [],
   "source": [
    "overpaid_dict = {\n",
    "    \"Overpaid_Greatly underpaid\": \"Greatly underpaid\",\n",
    "    \"Overpaid_Somewhat underpaid\": \"Somewhat underpaid\",\n",
    "    \"Overpaid_Neither underpaid nor overpaid\": \"Neither\",\n",
    "    \"Overpaid_Somewhat overpaid\": \"Somewhat overpaid\",\n",
    "    \"Overpaid_Greatly overpaid\": \"Greatly overpaid\",\n",
    "    \"Overpaid_Unknown\": \"Not sure\"\n",
    "}"
   ]
  },
  {
   "cell_type": "code",
   "execution_count": 42,
   "id": "a23d2287",
   "metadata": {
    "scrolled": false
   },
   "outputs": [
    {
     "data": {
      "text/html": [
       "<div>\n",
       "<style scoped>\n",
       "    .dataframe tbody tr th:only-of-type {\n",
       "        vertical-align: middle;\n",
       "    }\n",
       "\n",
       "    .dataframe tbody tr th {\n",
       "        vertical-align: top;\n",
       "    }\n",
       "\n",
       "    .dataframe thead th {\n",
       "        text-align: right;\n",
       "    }\n",
       "</style>\n",
       "<table border=\"1\" class=\"dataframe\">\n",
       "  <thead>\n",
       "    <tr style=\"text-align: right;\">\n",
       "      <th></th>\n",
       "      <th>Overpaid_Neither underpaid nor overpaid</th>\n",
       "      <th>Overpaid_Somewhat underpaid</th>\n",
       "      <th>Overpaid_Somewhat overpaid</th>\n",
       "      <th>Overpaid_Greatly underpaid</th>\n",
       "      <th>Overpaid_Unknown</th>\n",
       "      <th>Overpaid_Greatly overpaid</th>\n",
       "    </tr>\n",
       "    <tr>\n",
       "      <th>Salary</th>\n",
       "      <th></th>\n",
       "      <th></th>\n",
       "      <th></th>\n",
       "      <th></th>\n",
       "      <th></th>\n",
       "      <th></th>\n",
       "    </tr>\n",
       "  </thead>\n",
       "  <tbody>\n",
       "    <tr>\n",
       "      <th>10000</th>\n",
       "      <td>603.0</td>\n",
       "      <td>928.0</td>\n",
       "      <td>86.0</td>\n",
       "      <td>457.0</td>\n",
       "      <td>17.0</td>\n",
       "      <td>21.0</td>\n",
       "    </tr>\n",
       "    <tr>\n",
       "      <th>20000</th>\n",
       "      <td>295.0</td>\n",
       "      <td>466.0</td>\n",
       "      <td>43.0</td>\n",
       "      <td>156.0</td>\n",
       "      <td>1.0</td>\n",
       "      <td>10.0</td>\n",
       "    </tr>\n",
       "    <tr>\n",
       "      <th>30000</th>\n",
       "      <td>356.0</td>\n",
       "      <td>590.0</td>\n",
       "      <td>71.0</td>\n",
       "      <td>193.0</td>\n",
       "      <td>4.0</td>\n",
       "      <td>5.0</td>\n",
       "    </tr>\n",
       "    <tr>\n",
       "      <th>40000</th>\n",
       "      <td>481.0</td>\n",
       "      <td>678.0</td>\n",
       "      <td>66.0</td>\n",
       "      <td>163.0</td>\n",
       "      <td>1.0</td>\n",
       "      <td>8.0</td>\n",
       "    </tr>\n",
       "    <tr>\n",
       "      <th>50000</th>\n",
       "      <td>534.0</td>\n",
       "      <td>721.0</td>\n",
       "      <td>62.0</td>\n",
       "      <td>164.0</td>\n",
       "      <td>2.0</td>\n",
       "      <td>7.0</td>\n",
       "    </tr>\n",
       "    <tr>\n",
       "      <th>60000</th>\n",
       "      <td>474.0</td>\n",
       "      <td>592.0</td>\n",
       "      <td>88.0</td>\n",
       "      <td>121.0</td>\n",
       "      <td>2.0</td>\n",
       "      <td>4.0</td>\n",
       "    </tr>\n",
       "    <tr>\n",
       "      <th>70000</th>\n",
       "      <td>334.0</td>\n",
       "      <td>435.0</td>\n",
       "      <td>57.0</td>\n",
       "      <td>68.0</td>\n",
       "      <td>1.0</td>\n",
       "      <td>1.0</td>\n",
       "    </tr>\n",
       "    <tr>\n",
       "      <th>80000</th>\n",
       "      <td>285.0</td>\n",
       "      <td>334.0</td>\n",
       "      <td>43.0</td>\n",
       "      <td>44.0</td>\n",
       "      <td>1.0</td>\n",
       "      <td>7.0</td>\n",
       "    </tr>\n",
       "    <tr>\n",
       "      <th>90000</th>\n",
       "      <td>265.0</td>\n",
       "      <td>271.0</td>\n",
       "      <td>55.0</td>\n",
       "      <td>31.0</td>\n",
       "      <td>1.0</td>\n",
       "      <td>3.0</td>\n",
       "    </tr>\n",
       "    <tr>\n",
       "      <th>100000</th>\n",
       "      <td>341.0</td>\n",
       "      <td>329.0</td>\n",
       "      <td>80.0</td>\n",
       "      <td>35.0</td>\n",
       "      <td>1.0</td>\n",
       "      <td>5.0</td>\n",
       "    </tr>\n",
       "    <tr>\n",
       "      <th>120000</th>\n",
       "      <td>347.0</td>\n",
       "      <td>246.0</td>\n",
       "      <td>92.0</td>\n",
       "      <td>25.0</td>\n",
       "      <td>1.0</td>\n",
       "      <td>10.0</td>\n",
       "    </tr>\n",
       "    <tr>\n",
       "      <th>140000</th>\n",
       "      <td>201.0</td>\n",
       "      <td>143.0</td>\n",
       "      <td>56.0</td>\n",
       "      <td>7.0</td>\n",
       "      <td>0.0</td>\n",
       "      <td>3.0</td>\n",
       "    </tr>\n",
       "    <tr>\n",
       "      <th>160000</th>\n",
       "      <td>80.0</td>\n",
       "      <td>63.0</td>\n",
       "      <td>19.0</td>\n",
       "      <td>4.0</td>\n",
       "      <td>0.0</td>\n",
       "      <td>2.0</td>\n",
       "    </tr>\n",
       "    <tr>\n",
       "      <th>180000</th>\n",
       "      <td>47.0</td>\n",
       "      <td>23.0</td>\n",
       "      <td>10.0</td>\n",
       "      <td>0.0</td>\n",
       "      <td>1.0</td>\n",
       "      <td>3.0</td>\n",
       "    </tr>\n",
       "    <tr>\n",
       "      <th>200000</th>\n",
       "      <td>5.0</td>\n",
       "      <td>4.0</td>\n",
       "      <td>2.0</td>\n",
       "      <td>0.0</td>\n",
       "      <td>0.0</td>\n",
       "      <td>0.0</td>\n",
       "    </tr>\n",
       "  </tbody>\n",
       "</table>\n",
       "</div>"
      ],
      "text/plain": [
       "        Overpaid_Neither underpaid nor overpaid  Overpaid_Somewhat underpaid  \\\n",
       "Salary                                                                         \n",
       "10000                                     603.0                        928.0   \n",
       "20000                                     295.0                        466.0   \n",
       "30000                                     356.0                        590.0   \n",
       "40000                                     481.0                        678.0   \n",
       "50000                                     534.0                        721.0   \n",
       "60000                                     474.0                        592.0   \n",
       "70000                                     334.0                        435.0   \n",
       "80000                                     285.0                        334.0   \n",
       "90000                                     265.0                        271.0   \n",
       "100000                                    341.0                        329.0   \n",
       "120000                                    347.0                        246.0   \n",
       "140000                                    201.0                        143.0   \n",
       "160000                                     80.0                         63.0   \n",
       "180000                                     47.0                         23.0   \n",
       "200000                                      5.0                          4.0   \n",
       "\n",
       "        Overpaid_Somewhat overpaid  Overpaid_Greatly underpaid  \\\n",
       "Salary                                                           \n",
       "10000                         86.0                       457.0   \n",
       "20000                         43.0                       156.0   \n",
       "30000                         71.0                       193.0   \n",
       "40000                         66.0                       163.0   \n",
       "50000                         62.0                       164.0   \n",
       "60000                         88.0                       121.0   \n",
       "70000                         57.0                        68.0   \n",
       "80000                         43.0                        44.0   \n",
       "90000                         55.0                        31.0   \n",
       "100000                        80.0                        35.0   \n",
       "120000                        92.0                        25.0   \n",
       "140000                        56.0                         7.0   \n",
       "160000                        19.0                         4.0   \n",
       "180000                        10.0                         0.0   \n",
       "200000                         2.0                         0.0   \n",
       "\n",
       "        Overpaid_Unknown  Overpaid_Greatly overpaid  \n",
       "Salary                                               \n",
       "10000               17.0                       21.0  \n",
       "20000                1.0                       10.0  \n",
       "30000                4.0                        5.0  \n",
       "40000                1.0                        8.0  \n",
       "50000                2.0                        7.0  \n",
       "60000                2.0                        4.0  \n",
       "70000                1.0                        1.0  \n",
       "80000                1.0                        7.0  \n",
       "90000                1.0                        3.0  \n",
       "100000               1.0                        5.0  \n",
       "120000               1.0                       10.0  \n",
       "140000               0.0                        3.0  \n",
       "160000               0.0                        2.0  \n",
       "180000               1.0                        3.0  \n",
       "200000               0.0                        0.0  "
      ]
     },
     "execution_count": 42,
     "metadata": {},
     "output_type": "execute_result"
    }
   ],
   "source": [
    "salary_overpaid_2017 = survey_2017_clean[['Salary']+overpaid_list].groupby(by='Salary').sum()\n",
    "salary_overpaid_2017"
   ]
  },
  {
   "cell_type": "code",
   "execution_count": 43,
   "id": "4ecd66c7",
   "metadata": {},
   "outputs": [],
   "source": [
    "def convert_xticks(arr):\n",
    "    result = map(lambda x: str(x//1000)+'k', arr)\n",
    "    return list(result)"
   ]
  },
  {
   "cell_type": "code",
   "execution_count": 66,
   "id": "f63eab98",
   "metadata": {
    "scrolled": false
   },
   "outputs": [
    {
     "data": {
      "image/png": "[encoded data removed]",
      "text/plain": [
       "<Figure size 432x288 with 1 Axes>"
      ]
     },
     "metadata": {
      "needs_background": "light"
     },
     "output_type": "display_data"
    }
   ],
   "source": [
    "bottom = len(intervals_adjusted) * [0]\n",
    "ticks = np.arange(len(intervals_adjusted))\n",
    "labels = convert_xticks(intervals_adjusted)\n",
    "\n",
    "for i, overpaid in enumerate(overpaid_dict):\n",
    "    plt.bar(ticks, salary_overpaid_2017[overpaid].values, bottom=bottom, align='center')\n",
    "    bottom += salary_overpaid_2017[overpaid].values\n",
    "    \n",
    "plt.legend(overpaid_dict.values())\n",
    "plt.xlabel('Salary')\n",
    "plt.ylabel('Developers')\n",
    "plt.xticks(ticks, labels, rotation=90)\n",
    "plt.tight_layout()\n",
    "plt.show()"
   ]
  },
  {
   "cell_type": "code",
   "execution_count": 68,
   "id": "d0b87818",
   "metadata": {},
   "outputs": [
    {
     "name": "stdout",
     "output_type": "stream",
     "text": [
      "(98855, 129) ['Respondent', 'Hobby', 'OpenSource', 'Country', 'Student', 'Employment', 'FormalEducation', 'UndergradMajor', 'CompanySize', 'DevType', 'YearsCoding', 'YearsCodingProf', 'JobSatisfaction', 'CareerSatisfaction', 'HopeFiveYears', 'JobSearchStatus', 'LastNewJob', 'AssessJob1', 'AssessJob2', 'AssessJob3', 'AssessJob4', 'AssessJob5', 'AssessJob6', 'AssessJob7', 'AssessJob8', 'AssessJob9', 'AssessJob10', 'AssessBenefits1', 'AssessBenefits2', 'AssessBenefits3', 'AssessBenefits4', 'AssessBenefits5', 'AssessBenefits6', 'AssessBenefits7', 'AssessBenefits8', 'AssessBenefits9', 'AssessBenefits10', 'AssessBenefits11', 'JobContactPriorities1', 'JobContactPriorities2', 'JobContactPriorities3', 'JobContactPriorities4', 'JobContactPriorities5', 'JobEmailPriorities1', 'JobEmailPriorities2', 'JobEmailPriorities3', 'JobEmailPriorities4', 'JobEmailPriorities5', 'JobEmailPriorities6', 'JobEmailPriorities7', 'UpdateCV', 'Currency', 'Salary', 'SalaryType', 'ConvertedSalary', 'CurrencySymbol', 'CommunicationTools', 'TimeFullyProductive', 'EducationTypes', 'SelfTaughtTypes', 'TimeAfterBootcamp', 'HackathonReasons', 'AgreeDisagree1', 'AgreeDisagree2', 'AgreeDisagree3', 'LanguageWorkedWith', 'LanguageDesireNextYear', 'DatabaseWorkedWith', 'DatabaseDesireNextYear', 'PlatformWorkedWith', 'PlatformDesireNextYear', 'FrameworkWorkedWith', 'FrameworkDesireNextYear', 'IDE', 'OperatingSystem', 'NumberMonitors', 'Methodology', 'VersionControl', 'CheckInCode', 'AdBlocker', 'AdBlockerDisable', 'AdBlockerReasons', 'AdsAgreeDisagree1', 'AdsAgreeDisagree2', 'AdsAgreeDisagree3', 'AdsActions', 'AdsPriorities1', 'AdsPriorities2', 'AdsPriorities3', 'AdsPriorities4', 'AdsPriorities5', 'AdsPriorities6', 'AdsPriorities7', 'AIDangerous', 'AIInteresting', 'AIResponsible', 'AIFuture', 'EthicsChoice', 'EthicsReport', 'EthicsResponsible', 'EthicalImplications', 'StackOverflowRecommend', 'StackOverflowVisit', 'StackOverflowHasAccount', 'StackOverflowParticipate', 'StackOverflowJobs', 'StackOverflowDevStory', 'StackOverflowJobsRecommend', 'StackOverflowConsiderMember', 'HypotheticalTools1', 'HypotheticalTools2', 'HypotheticalTools3', 'HypotheticalTools4', 'HypotheticalTools5', 'WakeTime', 'HoursComputer', 'HoursOutside', 'SkipMeals', 'ErgonomicDevices', 'Exercise', 'Gender', 'SexualOrientation', 'EducationParents', 'RaceEthnicity', 'Age', 'Dependents', 'MilitaryUS', 'SurveyTooLong', 'SurveyEasy']\n"
     ]
    }
   ],
   "source": [
    "survey_2018 = pd.read_csv(surveys['2018']['data'], low_memory=True)\n",
    "print(survey_2018.shape, survey_2018.columns.tolist())"
   ]
  },
  {
   "cell_type": "code",
   "execution_count": 71,
   "id": "4e132a73",
   "metadata": {},
   "outputs": [
    {
     "data": {
      "text/plain": [
       "I don't typically exercise    26995\n",
       "NaN                           26747\n",
       "1 - 2 times per week          20932\n",
       "3 - 4 times per week          14318\n",
       "Daily or almost every day      9863\n",
       "Name: Exercise, dtype: int64"
      ]
     },
     "execution_count": 71,
     "metadata": {},
     "output_type": "execute_result"
    }
   ],
   "source": [
    "survey_2018['Exercise'].value_counts(dropna=False)"
   ]
  },
  {
   "cell_type": "code",
   "execution_count": 75,
   "id": "46658249",
   "metadata": {},
   "outputs": [
    {
     "data": {
      "text/plain": [
       "NaN                   34281\n",
       "25 - 34 years old     31759\n",
       "18 - 24 years old     15249\n",
       "35 - 44 years old     11477\n",
       "45 - 54 years old      3313\n",
       "Under 18 years old     1638\n",
       "55 - 64 years old       959\n",
       "65 years or older       179\n",
       "Name: Age, dtype: int64"
      ]
     },
     "execution_count": 75,
     "metadata": {},
     "output_type": "execute_result"
    }
   ],
   "source": [
    "survey_2018['Age'].value_counts(dropna=False)"
   ]
  },
  {
   "cell_type": "code",
   "execution_count": 76,
   "id": "566cfcdf",
   "metadata": {
    "scrolled": true
   },
   "outputs": [
    {
     "data": {
      "text/plain": [
       "NaN                         27324\n",
       "20 to 99 employees          16996\n",
       "100 to 499 employees        14011\n",
       "10,000 or more employees     9757\n",
       "10 to 19 employees           8007\n",
       "1,000 to 4,999 employees     7634\n",
       "Fewer than 10 employees      7479\n",
       "500 to 999 employees         4630\n",
       "5,000 to 9,999 employees     3017\n",
       "Name: CompanySize, dtype: int64"
      ]
     },
     "execution_count": 76,
     "metadata": {},
     "output_type": "execute_result"
    }
   ],
   "source": [
    "survey_2018['CompanySize'].value_counts(dropna=False)"
   ]
  },
  {
   "cell_type": "code",
   "execution_count": 84,
   "id": "a7611c68",
   "metadata": {
    "scrolled": true
   },
   "outputs": [
    {
     "data": {
      "text/plain": [
       "1 - 2 hours             27788\n",
       "NaN                     26831\n",
       "30 - 59 minutes         24002\n",
       "Less than 30 minutes    11223\n",
       "3 - 4 hours              7186\n",
       "Over 4 hours             1825\n",
       "Name: HoursOutside, dtype: int64"
      ]
     },
     "execution_count": 84,
     "metadata": {},
     "output_type": "execute_result"
    }
   ],
   "source": [
    "survey_2018['HoursOutside'].value_counts(dropna=False)"
   ]
  },
  {
   "cell_type": "code",
   "execution_count": 85,
   "id": "afb8dee9",
   "metadata": {},
   "outputs": [
    {
     "data": {
      "text/plain": [
       "3-5 years           23313\n",
       "6-8 years           19338\n",
       "9-11 years          12169\n",
       "0-2 years           10682\n",
       "12-14 years          8030\n",
       "15-17 years          6117\n",
       "18-20 years          5072\n",
       "NaN                  5020\n",
       "30 or more years     3544\n",
       "21-23 years          2648\n",
       "24-26 years          1862\n",
       "27-29 years          1060\n",
       "Name: YearsCoding, dtype: int64"
      ]
     },
     "execution_count": 85,
     "metadata": {},
     "output_type": "execute_result"
    }
   ],
   "source": [
    "survey_2018['YearsCoding'].value_counts(dropna=False)"
   ]
  },
  {
   "cell_type": "code",
   "execution_count": 106,
   "id": "789f2382",
   "metadata": {},
   "outputs": [
    {
     "data": {
      "text/plain": [
       "JavaScript              54686\n",
       "HTML                    53628\n",
       "CSS                     50979\n",
       "SQL                     44670\n",
       "Java                    35521\n",
       "Bash/Shell              31172\n",
       "Python                  30359\n",
       "C#                      26954\n",
       "PHP                     24071\n",
       "C++                     19872\n",
       "C                       18042\n",
       "TypeScript              13626\n",
       "Ruby                     7911\n",
       "Swift                    6310\n",
       "Assembly                 5760\n",
       "Go                       5532\n",
       "Objective-C              5510\n",
       "VB.NET                   5254\n",
       "R                        4813\n",
       "Matlab                   4564\n",
       "VBA                      3810\n",
       "Kotlin                   3508\n",
       "Scala                    3420\n",
       "Groovy                   3373\n",
       "Perl                     3280\n",
       "Visual Basic 6           3087\n",
       "Lua                      2733\n",
       "CoffeeScript             2603\n",
       "Delphi/Object Pascal     2025\n",
       "Haskell                  1961\n",
       "Rust                     1857\n",
       "F#                       1115\n",
       "Clojure                  1032\n",
       "Erlang                    886\n",
       "Cobol                     590\n",
       "Ocaml                     470\n",
       "Julia                     430\n",
       "Hack                      254\n",
       "dtype: int64"
      ]
     },
     "execution_count": 106,
     "metadata": {},
     "output_type": "execute_result"
    }
   ],
   "source": [
    "from itertools import chain\n",
    "\n",
    "survey_2018_clean = survey_2018.copy()\n",
    "survey_2018_clean = survey_2018_clean.dropna(subset=['LanguageWorkedWith'], axis=0)\n",
    "lang_list = survey_2018_clean['LanguageWorkedWith'].dropna().str.split(';').tolist()\n",
    "lang_set = set(chain(*lang_list))\n",
    "\n",
    "dummies = pd.get_dummies(survey_2018_clean['LanguageWorkedWith'].str.split(';').explode()).sum(level=0)\n",
    "dummies.sum().sort_values(ascending=False)"
   ]
  },
  {
   "cell_type": "code",
   "execution_count": 92,
   "id": "0aac00d1",
   "metadata": {},
   "outputs": [
    {
     "data": {
      "text/html": [
       "<div>\n",
       "<style scoped>\n",
       "    .dataframe tbody tr th:only-of-type {\n",
       "        vertical-align: middle;\n",
       "    }\n",
       "\n",
       "    .dataframe tbody tr th {\n",
       "        vertical-align: top;\n",
       "    }\n",
       "\n",
       "    .dataframe thead th {\n",
       "        text-align: right;\n",
       "    }\n",
       "</style>\n",
       "<table border=\"1\" class=\"dataframe\">\n",
       "  <thead>\n",
       "    <tr style=\"text-align: right;\">\n",
       "      <th></th>\n",
       "      <th>Column</th>\n",
       "      <th>QuestionText</th>\n",
       "    </tr>\n",
       "  </thead>\n",
       "  <tbody>\n",
       "    <tr>\n",
       "      <th>20</th>\n",
       "      <td>AssessJob4</td>\n",
       "      <td>Imagine that you are assessing a potential job opportunity. Please rank the following aspects of the job opportunity in order of importance (by dragging the choices up and down), where 1 is the most important and 10 is the least important. The languages, frameworks, and other technologies I'd be working with</td>\n",
       "    </tr>\n",
       "    <tr>\n",
       "      <th>65</th>\n",
       "      <td>LanguageWorkedWith</td>\n",
       "      <td>Which of the following programming, scripting, and markup languages have you done extensive development work in over the past year, and which do you want to work in over the next year?  (If you both worked with the language and want to continue to do so, please check both boxes in that row.)</td>\n",
       "    </tr>\n",
       "    <tr>\n",
       "      <th>66</th>\n",
       "      <td>LanguageDesireNextYear</td>\n",
       "      <td>Which of the following programming, scripting, and markup languages have you done extensive development work in over the past year, and which do you want to work in over the next year?  (If you both worked with the language and want to continue to do so, please check both boxes in that row.)</td>\n",
       "    </tr>\n",
       "    <tr>\n",
       "      <th>92</th>\n",
       "      <td>AdsPriorities7</td>\n",
       "      <td>Please rank the following advertising qualities in order of their importance to you (by dragging the choices up and down), where 1 is the most important, and 7 is the least important. The advertisement avoids fluffy or vague language</td>\n",
       "    </tr>\n",
       "  </tbody>\n",
       "</table>\n",
       "</div>"
      ],
      "text/plain": [
       "                    Column  \\\n",
       "20              AssessJob4   \n",
       "65      LanguageWorkedWith   \n",
       "66  LanguageDesireNextYear   \n",
       "92          AdsPriorities7   \n",
       "\n",
       "                                                                                                                                                                                                                                                                                                             QuestionText  \n",
       "20  Imagine that you are assessing a potential job opportunity. Please rank the following aspects of the job opportunity in order of importance (by dragging the choices up and down), where 1 is the most important and 10 is the least important. The languages, frameworks, and other technologies I'd be working with  \n",
       "65                   Which of the following programming, scripting, and markup languages have you done extensive development work in over the past year, and which do you want to work in over the next year?  (If you both worked with the language and want to continue to do so, please check both boxes in that row.)  \n",
       "66                   Which of the following programming, scripting, and markup languages have you done extensive development work in over the past year, and which do you want to work in over the next year?  (If you both worked with the language and want to continue to do so, please check both boxes in that row.)  \n",
       "92                                                                              Please rank the following advertising qualities in order of their importance to you (by dragging the choices up and down), where 1 is the most important, and 7 is the least important. The advertisement avoids fluffy or vague language  "
      ]
     },
     "execution_count": 92,
     "metadata": {},
     "output_type": "execute_result"
    }
   ],
   "source": [
    "search_schema(pd.read_csv(surveys['2018']['schema']), 'language')"
   ]
  }
 ],
 "metadata": {
  "kernelspec": {
   "display_name": "Python 3",
   "language": "python",
   "name": "python3"
  },
  "language_info": {
   "codemirror_mode": {
    "name": "ipython",
    "version": 3
   },
   "file_extension": ".py",
   "mimetype": "text/x-python",
   "name": "python",
   "nbconvert_exporter": "python",
   "pygments_lexer": "ipython3",
   "version": "3.9.5"
  }
 },
 "nbformat": 4,
 "nbformat_minor": 5
}
